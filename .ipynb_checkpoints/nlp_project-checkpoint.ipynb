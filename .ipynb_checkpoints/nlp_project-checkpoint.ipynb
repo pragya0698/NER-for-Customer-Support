{
 "cells": [
  {
   "cell_type": "code",
   "execution_count": 2,
   "metadata": {
    "collapsed": false
   },
   "outputs": [
    {
     "name": "stderr",
     "output_type": "stream",
     "text": [
      "Using TensorFlow backend.\n"
     ]
    }
   ],
   "source": [
    "import spacy\n",
    "import textacy\n",
    "from textacy import lexicon_methods\n",
    "from sklearn.model_selection import train_test_split\n",
    "from sklearn.feature_extraction.text import TfidfVectorizer\n",
    "import spacy\n",
    "import csv\n",
    "import os\n",
    "import sklearn\n",
    "from sklearn import svm\n",
    "from sklearn.svm import SVC\n",
    "from sklearn.decomposition import TruncatedSVD\n",
    "from nltk.corpus import wordnet as wn\n",
    "import pandas as pd\n",
    "from textblob import TextBlob\n",
    "from nltk.corpus import stopwords \n",
    "import math\n",
    "from gensim.models import Word2Vec\n",
    "from gensim.models import KeyedVectors\n",
    "from keras.utils import to_categorical\n",
    "import numpy as np\n",
    "from numpy import array \n",
    "from nltk.stem import PorterStemmer\n",
    "from nltk.tokenize import sent_tokenize, word_tokenize\n",
    "ps = PorterStemmer()\n",
    "from spacy.parts_of_speech import ADJ, ADV, NOUN, VERB\n",
    "import nltk\n",
    "import re\n",
    "import pandas as pd\n",
    "import matplotlib.pyplot as plt\n",
    "from keras.layers.convolutional import Conv1D\n",
    "from keras.models import Sequential\n",
    "from keras.layers import Input, Flatten\n",
    "from keras.layers import Dense, Activation\n",
    "from keras.layers import MaxPooling1D\n",
    "from os import path\n",
    "from __future__ import unicode_literals, print_function\n",
    "import plac\n",
    "import random\n",
    "from pathlib import Path\n",
    "import spacy\n",
    "from spacy.lang.en import English\n",
    "from ahocorasick import Automaton\n",
    "from spacy.util import minibatch, compounding"
   ]
  },
  {
   "cell_type": "code",
   "execution_count": 3,
   "metadata": {
    "collapsed": false
   },
   "outputs": [
    {
     "data": {
      "text/plain": [
       "'train a model  to categorize the reviews based on positive and negative sentiments. So output of svm will be 1  and 1\\n0-negative\\nTake the negative sentiment reviews and apply ner\\nThese are the reviews that have issues\\nOnce the entities have been recognised, the review can be routed to the corresponding dept\\nWe can show it in a table -review, corresponding department\\nAnd another table that can have review, corresponding response.\\nEx:  Review: few weeks ago I ordered some cotton tops. They sent me some cheap nylon tops instead. \\n     Response :What was the brand of the top?\\n'"
      ]
     },
     "execution_count": 3,
     "metadata": {},
     "output_type": "execute_result"
    }
   ],
   "source": [
    "'''train a model  to categorize the reviews based on positive and negative sentiments. So output of svm will be 1  and 1\n",
    "0-negative\n",
    "Take the negative sentiment reviews and apply ner\n",
    "These are the reviews that have issues\n",
    "Once the entities have been recognised, the review can be routed to the corresponding dept\n",
    "We can show it in a table -review, corresponding department\n",
    "And another table that can have review, corresponding response.\n",
    "Ex:  Review: few weeks ago I ordered some cotton tops. They sent me some cheap nylon tops instead. \n",
    "     Response :What was the brand of the top?\n",
    "'''"
   ]
  },
  {
   "cell_type": "code",
   "execution_count": 4,
   "metadata": {
    "collapsed": true
   },
   "outputs": [],
   "source": [
    "#Categories:\n",
    "#1. Clothing and Accessories\n",
    "#2. Cell_Phones_Accessories.txt\n",
    "#3. Home_Kitchen.txt"
   ]
  },
  {
   "cell_type": "code",
   "execution_count": 5,
   "metadata": {
    "collapsed": false
   },
   "outputs": [
    {
     "name": "stdout",
     "output_type": "stream",
     "text": [
      "4000\n"
     ]
    }
   ],
   "source": [
    "with open('/home/mukesh/NLP/project/Clothing_&_Accessories.txt', 'r') as f:\n",
    "    with open('/home/mukesh/NLP/project/reviews.csv', 'w') as writeFile:\n",
    "        writer = csv.writer(writeFile)\n",
    "        header=[\"department\",\"sentiment\",\"review\"]\n",
    "        writer.writerow(header)\n",
    "        ctr=0\n",
    "        for line in f:\n",
    "            if(line.find(\"review/score:\")!=-1):\n",
    "                    \n",
    "                    rev=[\"Clothing_Accessories\",line[13:]]\n",
    "            \n",
    "            \n",
    "            \n",
    "            if(line.find(\"review/text:\")!=-1 and ctr<4000):\n",
    "                \n",
    "                review=str(line[13:]).lower()\n",
    "                #print(review)\n",
    "                rev.append(review)\n",
    "                \n",
    "                #print(rev)\n",
    "                \n",
    "                writer = csv.writer(writeFile)\n",
    "                writer.writerow(rev)\n",
    "                ctr+=1\n",
    "            \n",
    "            \n",
    "    print(ctr)"
   ]
  },
  {
   "cell_type": "code",
   "execution_count": 6,
   "metadata": {
    "collapsed": false
   },
   "outputs": [
    {
     "name": "stdout",
     "output_type": "stream",
     "text": [
      "4000\n"
     ]
    }
   ],
   "source": [
    "with open('/home/mukesh/NLP/project/Cell_Phones_&_Accessories.txt', 'r') as f:\n",
    "    with open('/home/mukesh/NLP/project/reviews.csv', 'a') as writeFile:\n",
    "\n",
    "       \n",
    "\n",
    "        ctr=0\n",
    "        for line in f:\n",
    "            \n",
    "            if(line.find(\"review/score:\")!=-1):\n",
    "                    \n",
    "                    rev=[\"Cell_Phones_Accessories\",line[13:]]\n",
    "            \n",
    "            \n",
    "            \n",
    "            if(line.find(\"review/text:\")!=-1 and ctr<4000):\n",
    "                \n",
    "            \n",
    "                review=str(line[13:]).lower()\n",
    "                #print(review)\n",
    "                rev.append(review)\n",
    "                \n",
    "                #print(rev)\n",
    "                \n",
    "                writer = csv.writer(writeFile)\n",
    "                writer.writerow(rev)\n",
    "                ctr+=1\n",
    "            \n",
    "            \n",
    "    print(ctr)"
   ]
  },
  {
   "cell_type": "code",
   "execution_count": 7,
   "metadata": {
    "collapsed": false
   },
   "outputs": [
    {
     "name": "stdout",
     "output_type": "stream",
     "text": [
      "4000\n"
     ]
    }
   ],
   "source": [
    "with open('/home/mukesh/NLP/project/Home_&_Kitchen.txt', 'r') as f:\n",
    "    with open('/home/mukesh/NLP/project/reviews.csv', 'a') as writeFile:\n",
    "\n",
    "       \n",
    "        ctr=0\n",
    "        for line in f:\n",
    "            \n",
    "            if(line.find(\"review/score:\")!=-1):\n",
    "                    \n",
    "                    rev=[\"Home_Kitchen\",line[13:]]\n",
    "            \n",
    "            \n",
    "            \n",
    "            if(line.find(\"review/text:\")!=-1 and ctr<4000):\n",
    "                \n",
    "                review=str(line[13:]).lower()\n",
    "                #print(review)\n",
    "                rev.append(review)\n",
    "                \n",
    "                #print(rev)\n",
    "                \n",
    "                writer = csv.writer(writeFile)\n",
    "                writer.writerow(rev)\n",
    "                ctr+=1\n",
    "            \n",
    "            \n",
    "    print(ctr)"
   ]
  },
  {
   "cell_type": "code",
   "execution_count": 8,
   "metadata": {
    "collapsed": false
   },
   "outputs": [
    {
     "name": "stdout",
     "output_type": "stream",
     "text": [
      "12000\n",
      "5.0    6064\n",
      "4.0    2349\n",
      "1.0    1530\n",
      "3.0    1120\n",
      "2.0     937\n",
      "Name: sentiment, dtype: int64\n",
      "10880\n",
      "1.0    8413\n",
      "0.0    2467\n",
      "Name: sentiment, dtype: int64\n"
     ]
    }
   ],
   "source": [
    "df=pd.read_csv('/home/mukesh/NLP/project/reviews.csv', delimiter = ',')\n",
    "print(len(df))\n",
    "print(df['sentiment'].value_counts())\n",
    "#Drop all the reviews with rating 3\n",
    "\n",
    "df = df[df.sentiment != 3]\n",
    "print(len(df))\n",
    "df['sentiment']=df['sentiment'].replace([1, 2], 0)\n",
    "df['sentiment']=df['sentiment'].replace([4, 5], 1)\n",
    "print(df['sentiment'].value_counts())\n"
   ]
  },
  {
   "cell_type": "code",
   "execution_count": 9,
   "metadata": {
    "collapsed": false
   },
   "outputs": [
    {
     "name": "stdout",
     "output_type": "stream",
     "text": [
      "3773 2467\n",
      "Clothing_Accessories       3650\n",
      "Cell_Phones_Accessories    2021\n",
      "Home_Kitchen                569\n",
      "Name: department, dtype: int64\n"
     ]
    }
   ],
   "source": [
    "#balance\n",
    "df1=df.loc[df['sentiment'] == 1]\n",
    "df2=df.loc[df['sentiment'] == 0]\n",
    "\n",
    "df1=df1[:3773]\n",
    "print(len(df1),len(df2))\n",
    "\n",
    "df=df1.append(df2, ignore_index=True)\n",
    "print(df['department'].value_counts())"
   ]
  },
  {
   "cell_type": "code",
   "execution_count": 10,
   "metadata": {
    "collapsed": false
   },
   "outputs": [
    {
     "name": "stderr",
     "output_type": "stream",
     "text": [
      "/home/mukesh/anaconda3/lib/python3.6/site-packages/sklearn/feature_extraction/text.py:1059: FutureWarning: Conversion of the second argument of issubdtype from `float` to `np.floating` is deprecated. In future, it will be treated as `np.float64 == np.dtype(float).type`.\n",
      "  if hasattr(X, 'dtype') and np.issubdtype(X.dtype, np.float):\n"
     ]
    }
   ],
   "source": [
    "#Creating sparse vector using TFID vectorizer\n",
    "vectorizer = TfidfVectorizer()\n",
    "sparse_vector = vectorizer.fit_transform(df[\"review\"])\n",
    "n_features=sparse_vector.shape[1]"
   ]
  },
  {
   "cell_type": "code",
   "execution_count": 11,
   "metadata": {
    "collapsed": false
   },
   "outputs": [
    {
     "name": "stdout",
     "output_type": "stream",
     "text": [
      "Accuracy using sparse vector representation of each review = 92.90865384615384\n"
     ]
    }
   ],
   "source": [
    "X_train, X_test, y_train, y_test = train_test_split(sparse_vector, df[\"sentiment\"], test_size=0.4, random_state=42)\n",
    "l1=list(df[\"department\"])\n",
    "l2=list(df[\"review\"])\n",
    "l=[]\n",
    "for i in range(len(l1)):\n",
    "    l.append([l1[i],l2[i]])\n",
    "#print(len(l))\n",
    "#need to map the reviews and department to the review. To do this, the line below is used. It will split the same way\n",
    "X_train2, X_test2, y_train2, y_test2 = train_test_split(l, df[\"sentiment\"], test_size=0.4, random_state=42)\n",
    "clf = SVC(kernel='linear') \n",
    "# fitting x samples and y classes \n",
    "clf.fit(X_train, y_train) \n",
    "#Predicting and evaluatng accuracy\n",
    "\n",
    "y_pred_list=clf.predict(X_test)\n",
    "ans=array(y_pred_list)\n",
    "acc = sklearn.metrics.accuracy_score(y_test, y_pred_list)\n",
    "print(\"Accuracy using sparse vector representation of each review =\",acc*100)\n",
    "#Since we needed to manually annotate the corpus for training the ner, we could not use a huge corpus\n",
    "#NN needs huge amount of data to provide good accuracy.\n",
    "#SVM classification gave much better accuracy whereas ANN gave about 72% so we decided to use SVM to classify the reviews"
   ]
  },
  {
   "cell_type": "code",
   "execution_count": 12,
   "metadata": {
    "collapsed": false
   },
   "outputs": [
    {
     "name": "stdout",
     "output_type": "stream",
     "text": [
      "1.0    1538\n",
      "0.0     958\n",
      "Name: sent, dtype: int64\n"
     ]
    },
    {
     "data": {
      "text/plain": [
       "Cell_Phones_Accessories    480\n",
       "Clothing_Accessories       255\n",
       "Home_Kitchen               223\n",
       "Name: department, dtype: int64"
      ]
     },
     "execution_count": 12,
     "metadata": {},
     "output_type": "execute_result"
    }
   ],
   "source": [
    "#we now take all reviews with a negative sentiment\n",
    "y_pred_list=list(y_pred_list)\n",
    "df_pred = pd.DataFrame({'sent':y_pred_list})\n",
    "\n",
    "print (df_pred[\"sent\"].value_counts())\n",
    "X_test2=list(X_test2)\n",
    "negative_reviews=[]\n",
    "j=0\n",
    "with open('/home/mukesh/NLP/project/negative_reviews.csv', 'w') as writeFile:\n",
    "    header=[\"department\",\"review\"]\n",
    "    writer = csv.writer(writeFile)\n",
    "    writer.writerow(header)\n",
    "    for i in y_pred_list:\n",
    "    \n",
    "        if(i==0.0):\n",
    "            #print(i,j)\n",
    "            negative_reviews=[X_test2[j][0]]\n",
    "            negative_reviews.append(X_test2[j][1])\n",
    "            #print(negative_reviews)\n",
    "            writer = csv.writer(writeFile)\n",
    "            writer.writerow(negative_reviews)\n",
    "        j+=1\n",
    "df_neg = pd.read_csv('/home/mukesh/NLP/project/negative_reviews.csv') \n",
    "df_neg[\"department\"].value_counts()"
   ]
  },
  {
   "cell_type": "code",
   "execution_count": 13,
   "metadata": {
    "collapsed": true
   },
   "outputs": [],
   "source": [
    "#perform ner on negative_reviews\n"
   ]
  },
  {
   "cell_type": "code",
   "execution_count": 14,
   "metadata": {
    "collapsed": false
   },
   "outputs": [
    {
     "name": "stderr",
     "output_type": "stream",
     "text": [
      "/home/mukesh/anaconda3/lib/python3.6/site-packages/sklearn/feature_extraction/text.py:1059: FutureWarning: Conversion of the second argument of issubdtype from `float` to `np.floating` is deprecated. In future, it will be treated as `np.float64 == np.dtype(float).type`.\n",
      "  if hasattr(X, 'dtype') and np.issubdtype(X.dtype, np.float):\n"
     ]
    },
    {
     "name": "stdout",
     "output_type": "stream",
     "text": [
      "Accuracy using sparse vector representation of each review = 84.375\n"
     ]
    }
   ],
   "source": [
    "df_neg['department']=df_neg['department'].replace(\"Clothing_Accessories\", 1.0)\n",
    "df_neg['department']=df_neg['department'].replace(\"Cell_Phones_Accessories\", 2.0)\n",
    "df_neg['department']=df_neg['department'].replace(\"Home_Kitchen\", 3.0)\n",
    "\n",
    "\n",
    "vectorizer = TfidfVectorizer()\n",
    "sparse_vector_neg = vectorizer.fit_transform(df_neg[\"review\"])\n",
    "X_train, X_test, y_train, y_test = train_test_split(sparse_vector_neg, df_neg[\"department\"], test_size=0.4, random_state=42)\n",
    "X_train2, X_test2, y_train2, y_test2 = train_test_split(df_neg[\"review\"], df_neg[\"department\"], test_size=0.4, random_state=42)\n",
    "\n",
    "clf = svm.SVC(gamma=.75, decision_function_shape='ovo')\n",
    "clf.fit(X_train,y_train) \n",
    "\n",
    "y_pred_list=clf.predict(X_test)\n",
    "ans=array(y_pred_list)\n",
    "acc = sklearn.metrics.accuracy_score(y_test, y_pred_list)\n",
    "print(\"Accuracy using sparse vector representation of each review =\",acc*100)"
   ]
  },
  {
   "cell_type": "code",
   "execution_count": 15,
   "metadata": {
    "collapsed": false
   },
   "outputs": [],
   "source": [
    "df_neg_dept = pd.DataFrame({'dept':y_pred_list,'rev':X_test2})\n",
    "df_neg_dept.to_csv(\"/home/mukesh/NLP/project/classified_reviews.csv\", encoding='utf-8')"
   ]
  },
  {
   "cell_type": "code",
   "execution_count": 25,
   "metadata": {
    "collapsed": false
   },
   "outputs": [
    {
     "name": "stdout",
     "output_type": "stream",
     "text": [
      "this case is not worth the money. the first problem was with the screw that hold the belt clip would not stay in the case. i glued that in place. then the clip would not hold onto the case. then the belt clip broke. the last thing was that slide that holds the palm in the case broke. i would not recommend this case to anyone and would like to warn anyone that might want to try it. look elsewhere!!!\n",
      "\n",
      "We are sorry for the inconvenience. Can you please tell the brand which product belongs to?\n",
      "\n",
      "Thank you for your review\n",
      " i purchased the pulsar 590a 2 months ago. it is a terrific product. the sound is great. i purchased it to simultaneously connect to my ipod and blackberry pearl phone while walking. again, i could not be more satisfied.in addition, plantronics support is amazing. i asked them for the cost to just replace the adapter. i thought i broke it. they said it should be almost impossible to break with normal use. i got another pulsar 590a headset and adapter without cost to me in less than a week.the unit is small and folds into a nice looking case. the light is no big deal. very nice looking headphones. i do not understand anyone negatively reviewing this product.\n",
      "\n",
      "let me start off by saying that this is my 4th cell phone in 5 years, and this by far is the best phone i've ever owned. phone is so ergonimically correct, and its touch wheel (similiar to that of the ipod) and buttons surrounding the wheel (also touch sensitive) work flawlessly and are amazing. you can set different sensitivity levels for the touch bad and buttons which is awesome. the feature that i enjoy most about this phone is the bluetooth. i purchased a platronics voyager 510 (works flawlessly up to its advertised 30ft range) along with the phone and the two pieces of hardware are a match made in heaven. you can add a multitude of contact information to each phone number saved in your phone (email, fax, home, cell, work, picture, custom ringer -phone call, custom ringer -txt msg, place contacts into a group) and the screen display is top notch as well.some cons, the buttons along the side of the phone are a bit hard to press as they are indented into the phone as to prevent them from being pressed by mistake. would of been nice of lg had put some single, double, triple tick marks on the buttons so that you could at least become familiar with the feel and function of the button. the latch for the charger and for the usb hookup seem a bit flimsy and i believe will ultimately break prematurely.last thing, i didn't know that vcast only worked in certain areas. if you're not in verizons ed-vo area of coverage then you cannot use the feature. i'm in santa barbara and i get no coverage, checked for other local cities...ventura, santa maria, thousand oaks and they are not covered either. however, pasadena and los angeles are covered...not sure if that helps anyone but thought i'd through it out their.\n",
      "\n",
      "The review has been sent to the brand: lg under the category: phone \n",
      "\n",
      "it's cheap, eforcity delivers quickly, however, may not actually be oem. all of the oem chargers i've seen (model number syn0847) has glowing stylized \"m\" motorola logo. this item, however, does not; it only has a small blue led underneath the \"m\" that glows when it's plugged in. all of the other labeling on the charger looks authentic motorola. maybe a really good knockoff? anyway, does the job just fine (see title), and, again, it beats paying $20 at cingular.\n",
      "\n",
      "The review has been sent to the brand: motorola under the category: charger \n",
      "\n",
      "kyocera make the worst phone in the world. don't touch it, otherwise i am sure you will regret as i did. i really admire those kyocera people who can make phones so bad.\n",
      "\n",
      "The review has been sent to the brand: kyocera under the category: phone \n",
      "\n",
      "don't buy this phone ever. i had it for just over six months and now it's having problems from last 3 months... drop calls whenever it wants..:) now, popping up orange pixels on screen and seems like dead or burnt pixels and it's growing day by day.. i called t-mobile customer service and they are sending the replacement because it is under warranty.. what if it wasn't? do the math.. they also charged me shipping for sending replacement. ridiculous, isn't it????i am rating it 1 because that is the lowest score you can select here.. it's &lt; -infinity\n",
      "\n",
      "The review has been sent to the brand: t-mobile under the category: phone \n",
      "\n",
      "some quick commentsfirst dont get the verizon car charger. mine had a tag on the cord which indicated that it must be disconnected after the phone is charged. maybe to prevent battery overcharging? useless for me on long trips! verizon charger was over $30.00. at staples a motorola charge which can be left connected was less than $16.00.i use a palm pilot alot and can dial via bluetooth phone numbers on other cell phones. this does not work on v3m. also simple sending of contact information did not work. a quick look for software to connect v3m to outlook or the palm for daily schedules resulted in nothing. to connect the v3m to pc via usb appears to require a $30.00 package from verizon.the v3m does not have a standard wired hands free connector on the phone. i did get a \"converter\" which i have not tested but even if it does the phone does not support both the charger and wired hands free at the same time. the converter may only be for headphones but even if it works with headphones it another thing to carry around or lose.voice dialing does work great and speaker phone is good.\n",
      "\n",
      "The review has been sent to the brand: verizone under the category: charger \n",
      "\n",
      "these work to charge your phone, but the casing around part that plugs into the phone is slightly wide, causing the plug to fall out of the phone easily. this is especially aggravating with the car charger. i think it's worth the money to get the better fitting items from samsung.also - why does samsung change the plug in each phone model? the blackjack 1 and blackjack 2 do not use interchangeable plugs and my wife's samsung flipphone uses a completely different connection. are they trying to make money on peripherals and chargers?\n",
      "\n",
      "The review has been sent to the brand: samsung under the category: phone \n",
      "\n",
      "Thank you for your review\n",
      " great fabric and tight fit. problem is that if you are over 6ft tall, then all under armour products will be too short in the torso. this company does not listen to the customer.\n",
      "\n",
      "Thank you for your review\n",
      " thought the product worked great... only problem had was first time was too small...second was that not happy with cost to ship...way overpriced\n",
      "\n",
      "Thank you for your review\n",
      " great fabric and tight fit. problem is that if you are over 6ft tall, then all under armour products will be too short in the torso. this company does not listen to the customer.\n",
      "\n",
      "i bought a pair in maroon and they were a little short but fine. the problem was that they started coming apart at the seams after 2 months. will definitely be looking to a different company for a replacement pair.\n",
      "\n",
      "We are sorry for the inconvenence. Can you please tell the product you purchased?\n",
      "\n",
      "this thing is a game changer!! my stomach looks like it did in high school/ long before 3 csections when i wear it!!! i just wish i had bought it right after childbirth!! i don't know where it's pushing my fat to, and i don't really care!!!\n",
      "\n",
      "We are sorry for the inconvenence. Can you please tell the product you purchased?\n",
      "\n",
      "i have bought dockers for years but these are cut smaller than they usually are. even with the \"stretch\" waist band they are tight. so much for an \"extra\" inch. beware. try these in a store before you buy.\n",
      "\n",
      "We are sorry for the inconvenience. Can you please tell the brand which product belongs to?\n",
      "\n",
      "i initially purchased this phone through verizon: a brand new razr. it looked nice, but the battery on the phone was worthless. every night i had to recharge the phone. even when i did not use the phone all day, i still had to charge the phone at night. same thing happened after exchanging the battery. i tried three different batteries, but same result. maybe i had a defective phone, but that did not matter to me. i simply exchanged the phone after seven days to another model. i would not get this phone if i were you. hope this helped.\n",
      "\n",
      "The review has been sent to the brand: verizone under the category: phone \n",
      "\n",
      "i'm in the middle of my pregnancy, so i really need a car charger!amazon's description said this model was compatible with my nokia6102 flip cell phone, but it isn't it has the standard regular size tip for charging, which would work with most nokia cell phones prior to the nokia 6102 flip phone! the nokia 6102 flip cell phone has a new smaller charger end, so with all due respect might i suggest that someone grab a nokia 6102 flip cell phone, and the above car charger to see that they are \"not\" compatible, to help prevent this in the future! because i am still pregnant and i still need a car charger, for my nokia 6102 cell phone!i due honestly appreciate the fact that amazon at least paid for the return shipping, since the charger wasn't compatible!\n",
      "\n",
      "The review has been sent to the brand: nokia under the category: charger \n",
      "\n",
      "shirts of average quality...worth about what i paid for them, $10.00.....built in collar stays...\n",
      "\n",
      "We are sorry for the inconvenience. Can you please tell the brand which product belongs to?\n",
      "\n",
      "this bluetooth lets in a lot of outside noise. if there is anything going on in the background, the other person is going to hear it. tv's or radio's, road noise. almost anything. i would suggest a different unit.\n",
      "\n",
      "We are sorry for the inconvenence. Can you please tell the product you purchased?\n",
      "\n",
      "i wrote a review before, it was great. how things change the ear piece fell apart and now the headset is useless. i adjusted the rating downward. beware.*****original review follows******this model is far superior to the ericsson hand-free model. i used the ericsson hands-free and i was always straining to hear. with the body glove model i have no problem hearing or others hearing me.also the ericsson model has nothing to hold the earpiece you must shove it down your ear canal. not good hygiene.must have especially now as it is illegal to drive with a cellular phone in hand in ny\n",
      "\n",
      "We are sorry for the inconvenience. Can you please tell the brand which product belongs to?\n",
      "\n"
     ]
    }
   ],
   "source": [
    "#labels=[\"Brand\", \"Positive\", \"Part\", \"Quality\", \"Product\", \"Size\"]\n",
    "\n",
    "A=Automaton()\n",
    "ent=[(\"Roadster\",('Brand','Roadster')), (\"top\",('Product','top')), (\"nylon\",('Quality','nylon')), (\"cotton\",('Quality','cotton')), (\"small\",('Size','small')), (\"large\",('Size','large')), (\"kyocera\",('Brand','kyocera')),\n",
    "    (\"shirt\",('Product','shirt')),(\"cheap\",('Quality','cheap')),(\"worst\",('Quality','worst')),(\"phone\",('Product','phone')),(\"push buttons\",('Product','push buttons')),(\"slide\",('Part','slide')),\n",
    "    (\"case\",('Product','case')), (\"screw\",('Part','screw')), (\"belt clip\",('Part','belt clip')), (\"phone\",('Part','phone')),\n",
    "    (\"terrific\",('Positive','terrific')),(\"great\",('Positive','great')), (\"ipod\",('Product','ipod')), (\"blackberry\",('Brand','blackberry')), (\"phone\",('Product','phone')), (\"satisfied\",('Positive','satisfied')),\n",
    "    (\"amazing\",('Positive','amazing')), (\"adapter\",('Part','adapter')), (\"headset\",('Product','headset')), (\"nice\",('Positive','nice')), (\"best\",('Positive','best')), (\"touch wheel\",('Part','touch wheel')), (\"flawlessly\",('Positive','flawlessly')),(\"verizon\",('Brand','verizone')),\n",
    "    (\"bluetooth\",('Part','bluetooth')), (\"platronics voyager 510\",('Product','platronics voyager 510')),(\"pulsar 590a\",('Product','pulsar 590a')), (\"buttons\",('Part','buttons')), (\"lg\",('Brand','lg')), (\"latch\",('Part','latch')),\n",
    "    (\"charger\",('Product','charger')), (\"usb\",('Product','usb')), (\"motorola\",('Brand','motorola')), (\"syn0847\",('Product','syn0847')), (\"quickly\",('Positive','quickly')), (\"fine\",('Positive','fine')), (\"t-mobile\",('Brand','t-mobile')),\n",
    "    (\"v3m\",('Product','v3m')), (\"plug\",('Part','plug')), (\"samsung\",('Brand','samsung')), (\"blackjack\",('Part','blackjack')), (\"flipphone\",('Product','flipphone')), (\"great\",('Positive','great')), (\"short\",('Size','short')), \n",
    "    (\"dockers\",('Product','dockers')), (\"smaller\",('Size','smaller')), (\"battery\",('Part','battery')), (\"nokia\",('Brand','nokia'))]\n",
    "\n",
    "for x in ent:\n",
    "    A.add_word(x[0], x[1])\n",
    "\n",
    "A.make_automaton()\n",
    "\n",
    "df=pd.read_csv('/home/mukesh/NLP/project/classified_reviews.csv', delimiter = ',')\n",
    "for x in df['rev'][22:41]: #for each review\n",
    "    it=[]\n",
    "    count=0\n",
    "    brand=0\n",
    "    b=[]\n",
    "    p=[]\n",
    "    product=0\n",
    "    for item in A.iter(x): #for each entity in this review\n",
    "        if(item[1][0]==\"Positive\"):\n",
    "            count+=1\n",
    "        it.append(item)\n",
    "    if(count>len(x.split())/40):\n",
    "        print(\"Thank you for your review\\n\", x)\n",
    "    else:\n",
    "        print(x)\n",
    "        for i in it:\n",
    "            if i[1][0]==\"Brand\":\n",
    "                brand=1\n",
    "                b.append(i[1][1])\n",
    "            if i[1][0]==\"Product\":\n",
    "                product=1\n",
    "                p.append(i[1][1])\n",
    "        if brand==1 and product==1:\n",
    "            print(\"The review has been sent to the brand:\", b[0], \"under the category:\", p[0], \"\\n\" )\n",
    "        elif product==0:\n",
    "            print(\"We are sorry for the inconvenence. Can you please tell the product you purchased?\\n\")\n",
    "        elif brand==0:\n",
    "            print(\"We are sorry for the inconvenience. Can you please tell the brand which product belongs to?\\n\")\n",
    "        else:\n",
    "            print(\"We are sorry for the inconvenience. Can you please mention the brand and the product?\\n\")"
   ]
  },
  {
   "cell_type": "code",
   "execution_count": 28,
   "metadata": {
    "collapsed": true
   },
   "outputs": [],
   "source": []
  },
  {
   "cell_type": "code",
   "execution_count": null,
   "metadata": {
    "collapsed": true
   },
   "outputs": [],
   "source": []
  },
  {
   "cell_type": "code",
   "execution_count": null,
   "metadata": {
    "collapsed": true
   },
   "outputs": [],
   "source": []
  },
  {
   "cell_type": "code",
   "execution_count": null,
   "metadata": {
    "collapsed": true
   },
   "outputs": [],
   "source": []
  },
  {
   "cell_type": "code",
   "execution_count": null,
   "metadata": {
    "collapsed": true
   },
   "outputs": [],
   "source": []
  },
  {
   "cell_type": "code",
   "execution_count": null,
   "metadata": {
    "collapsed": true
   },
   "outputs": [],
   "source": []
  }
 ],
 "metadata": {
  "kernelspec": {
   "display_name": "Python 3",
   "language": "python",
   "name": "python3"
  },
  "language_info": {
   "codemirror_mode": {
    "name": "ipython",
    "version": 3
   },
   "file_extension": ".py",
   "mimetype": "text/x-python",
   "name": "python",
   "nbconvert_exporter": "python",
   "pygments_lexer": "ipython3",
   "version": "3.6.0"
  }
 },
 "nbformat": 4,
 "nbformat_minor": 2
}
